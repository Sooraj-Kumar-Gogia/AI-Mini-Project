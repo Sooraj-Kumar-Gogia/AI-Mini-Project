{
  "nbformat": 4,
  "nbformat_minor": 0,
  "metadata": {
    "colab": {
      "name": "VGG16 WITH CIFAR10.ipynb",
      "provenance": [],
      "collapsed_sections": []
    },
    "kernelspec": {
      "name": "python3",
      "display_name": "Python 3"
    },
    "language_info": {
      "name": "python"
    },
    "accelerator": "GPU",
    "widgets": {
      "application/vnd.jupyter.widget-state+json": {
        "6b4032571579405d925ee366ee70384f": {
          "model_module": "@jupyter-widgets/controls",
          "model_name": "HBoxModel",
          "state": {
            "_view_name": "HBoxView",
            "_dom_classes": [],
            "_model_name": "HBoxModel",
            "_view_module": "@jupyter-widgets/controls",
            "_model_module_version": "1.5.0",
            "_view_count": null,
            "_view_module_version": "1.5.0",
            "box_style": "",
            "layout": "IPY_MODEL_f0fcd9593e9242d08747774dd65015fa",
            "_model_module": "@jupyter-widgets/controls",
            "children": [
              "IPY_MODEL_e3e922b9798c40f99f42e95ae0025193",
              "IPY_MODEL_63b64225a4854e70a150cd5b5caf55bb"
            ]
          }
        },
        "f0fcd9593e9242d08747774dd65015fa": {
          "model_module": "@jupyter-widgets/base",
          "model_name": "LayoutModel",
          "state": {
            "_view_name": "LayoutView",
            "grid_template_rows": null,
            "right": null,
            "justify_content": null,
            "_view_module": "@jupyter-widgets/base",
            "overflow": null,
            "_model_module_version": "1.2.0",
            "_view_count": null,
            "flex_flow": null,
            "width": null,
            "min_width": null,
            "border": null,
            "align_items": null,
            "bottom": null,
            "_model_module": "@jupyter-widgets/base",
            "top": null,
            "grid_column": null,
            "overflow_y": null,
            "overflow_x": null,
            "grid_auto_flow": null,
            "grid_area": null,
            "grid_template_columns": null,
            "flex": null,
            "_model_name": "LayoutModel",
            "justify_items": null,
            "grid_row": null,
            "max_height": null,
            "align_content": null,
            "visibility": null,
            "align_self": null,
            "height": null,
            "min_height": null,
            "padding": null,
            "grid_auto_rows": null,
            "grid_gap": null,
            "max_width": null,
            "order": null,
            "_view_module_version": "1.2.0",
            "grid_template_areas": null,
            "object_position": null,
            "object_fit": null,
            "grid_auto_columns": null,
            "margin": null,
            "display": null,
            "left": null
          }
        },
        "e3e922b9798c40f99f42e95ae0025193": {
          "model_module": "@jupyter-widgets/controls",
          "model_name": "FloatProgressModel",
          "state": {
            "_view_name": "ProgressView",
            "style": "IPY_MODEL_bc205155a58c45e9904b760b731ff6f6",
            "_dom_classes": [],
            "description": "",
            "_model_name": "FloatProgressModel",
            "bar_style": "success",
            "max": 170498071,
            "_view_module": "@jupyter-widgets/controls",
            "_model_module_version": "1.5.0",
            "value": 170498071,
            "_view_count": null,
            "_view_module_version": "1.5.0",
            "orientation": "horizontal",
            "min": 0,
            "description_tooltip": null,
            "_model_module": "@jupyter-widgets/controls",
            "layout": "IPY_MODEL_2d7995bcbc4f45e383f4a826de8e5087"
          }
        },
        "63b64225a4854e70a150cd5b5caf55bb": {
          "model_module": "@jupyter-widgets/controls",
          "model_name": "HTMLModel",
          "state": {
            "_view_name": "HTMLView",
            "style": "IPY_MODEL_f96657c20b244124af9aee6162c6d2cd",
            "_dom_classes": [],
            "description": "",
            "_model_name": "HTMLModel",
            "placeholder": "​",
            "_view_module": "@jupyter-widgets/controls",
            "_model_module_version": "1.5.0",
            "value": " 170499072/? [00:04&lt;00:00, 42131722.45it/s]",
            "_view_count": null,
            "_view_module_version": "1.5.0",
            "description_tooltip": null,
            "_model_module": "@jupyter-widgets/controls",
            "layout": "IPY_MODEL_dc3183b89cf04c1b94441e6d95adbdea"
          }
        },
        "bc205155a58c45e9904b760b731ff6f6": {
          "model_module": "@jupyter-widgets/controls",
          "model_name": "ProgressStyleModel",
          "state": {
            "_view_name": "StyleView",
            "_model_name": "ProgressStyleModel",
            "description_width": "initial",
            "_view_module": "@jupyter-widgets/base",
            "_model_module_version": "1.5.0",
            "_view_count": null,
            "_view_module_version": "1.2.0",
            "bar_color": null,
            "_model_module": "@jupyter-widgets/controls"
          }
        },
        "2d7995bcbc4f45e383f4a826de8e5087": {
          "model_module": "@jupyter-widgets/base",
          "model_name": "LayoutModel",
          "state": {
            "_view_name": "LayoutView",
            "grid_template_rows": null,
            "right": null,
            "justify_content": null,
            "_view_module": "@jupyter-widgets/base",
            "overflow": null,
            "_model_module_version": "1.2.0",
            "_view_count": null,
            "flex_flow": null,
            "width": null,
            "min_width": null,
            "border": null,
            "align_items": null,
            "bottom": null,
            "_model_module": "@jupyter-widgets/base",
            "top": null,
            "grid_column": null,
            "overflow_y": null,
            "overflow_x": null,
            "grid_auto_flow": null,
            "grid_area": null,
            "grid_template_columns": null,
            "flex": null,
            "_model_name": "LayoutModel",
            "justify_items": null,
            "grid_row": null,
            "max_height": null,
            "align_content": null,
            "visibility": null,
            "align_self": null,
            "height": null,
            "min_height": null,
            "padding": null,
            "grid_auto_rows": null,
            "grid_gap": null,
            "max_width": null,
            "order": null,
            "_view_module_version": "1.2.0",
            "grid_template_areas": null,
            "object_position": null,
            "object_fit": null,
            "grid_auto_columns": null,
            "margin": null,
            "display": null,
            "left": null
          }
        },
        "f96657c20b244124af9aee6162c6d2cd": {
          "model_module": "@jupyter-widgets/controls",
          "model_name": "DescriptionStyleModel",
          "state": {
            "_view_name": "StyleView",
            "_model_name": "DescriptionStyleModel",
            "description_width": "",
            "_view_module": "@jupyter-widgets/base",
            "_model_module_version": "1.5.0",
            "_view_count": null,
            "_view_module_version": "1.2.0",
            "_model_module": "@jupyter-widgets/controls"
          }
        },
        "dc3183b89cf04c1b94441e6d95adbdea": {
          "model_module": "@jupyter-widgets/base",
          "model_name": "LayoutModel",
          "state": {
            "_view_name": "LayoutView",
            "grid_template_rows": null,
            "right": null,
            "justify_content": null,
            "_view_module": "@jupyter-widgets/base",
            "overflow": null,
            "_model_module_version": "1.2.0",
            "_view_count": null,
            "flex_flow": null,
            "width": null,
            "min_width": null,
            "border": null,
            "align_items": null,
            "bottom": null,
            "_model_module": "@jupyter-widgets/base",
            "top": null,
            "grid_column": null,
            "overflow_y": null,
            "overflow_x": null,
            "grid_auto_flow": null,
            "grid_area": null,
            "grid_template_columns": null,
            "flex": null,
            "_model_name": "LayoutModel",
            "justify_items": null,
            "grid_row": null,
            "max_height": null,
            "align_content": null,
            "visibility": null,
            "align_self": null,
            "height": null,
            "min_height": null,
            "padding": null,
            "grid_auto_rows": null,
            "grid_gap": null,
            "max_width": null,
            "order": null,
            "_view_module_version": "1.2.0",
            "grid_template_areas": null,
            "object_position": null,
            "object_fit": null,
            "grid_auto_columns": null,
            "margin": null,
            "display": null,
            "left": null
          }
        }
      }
    }
  },
  "cells": [
    {
      "cell_type": "code",
      "metadata": {
        "id": "i9Xp409-p3dh"
      },
      "source": [
        "import torch\n",
        "import torch.nn as nn\n",
        "import torch.nn.functional as F\n",
        "import torchvision\n",
        "import torchvision.transforms as transforms\n",
        "import matplotlib.pyplot as plt\n",
        "import numpy as np\n",
        "import datetime as dt"
      ],
      "execution_count": 1,
      "outputs": []
    },
    {
      "cell_type": "code",
      "metadata": {
        "id": "BFUXhwNQp8kX",
        "colab": {
          "base_uri": "https://localhost:8080/"
        },
        "outputId": "3c814cea-4fa9-40d3-eddd-f4f51925540c"
      },
      "source": [
        "#checking if Cuda is availble or not. CUDA enables developers to speed up compute-intensive \n",
        "#applications by harnessing the power of GPUs for the parallelizable part of the computation. \n",
        "\n",
        "device = torch.device('cuda' if torch.cuda.is_available() else 'cpu')\n",
        "print (f'device:{device}')\n",
        "\n",
        "# Hyper-paramesters\n",
        "\n",
        "#defining the number of epochs and batch size. Batch size is dividing the datasets into parts whatever you define \n",
        "num_epochs = 8\n",
        "batch_size = 2\n",
        "learning_rate = 0.001"
      ],
      "execution_count": 2,
      "outputs": [
        {
          "output_type": "stream",
          "text": [
            "device:cuda\n"
          ],
          "name": "stdout"
        }
      ]
    },
    {
      "cell_type": "code",
      "metadata": {
        "colab": {
          "base_uri": "https://localhost:8080/",
          "height": 117,
          "referenced_widgets": [
            "6b4032571579405d925ee366ee70384f",
            "f0fcd9593e9242d08747774dd65015fa",
            "e3e922b9798c40f99f42e95ae0025193",
            "63b64225a4854e70a150cd5b5caf55bb",
            "bc205155a58c45e9904b760b731ff6f6",
            "2d7995bcbc4f45e383f4a826de8e5087",
            "f96657c20b244124af9aee6162c6d2cd",
            "dc3183b89cf04c1b94441e6d95adbdea"
          ]
        },
        "id": "ekt28u4zqBaB",
        "outputId": "075041c1-9d75-40e8-9989-89958cec98ac"
      },
      "source": [
        "# dataset has PILImage images of rang [0,1]\n",
        "# we transform them to Tensors of normalized range [-1,1]\n",
        "\n",
        "transform = transforms.Compose(\n",
        "    [transforms.ToTensor(),  #transforming it to Tensors \n",
        "     transforms.Normalize((0.5,0.5,0.5), (0.5,0.5,0.5))]) #normalizing it\n",
        " \n",
        "train_dataset = torchvision.datasets.CIFAR10(root='./data', train=True, download=True, transform=transform)\n",
        "test_dataset = torchvision.datasets.CIFAR10(root='./data', train=False, download=True, transform=transform)\n",
        "train_loader = torch.utils.data.DataLoader(train_dataset, batch_size=batch_size, shuffle=True)\n",
        "test_loader = torch.utils.data.DataLoader(test_dataset, batch_size=batch_size, shuffle=False)"
      ],
      "execution_count": 3,
      "outputs": [
        {
          "output_type": "stream",
          "text": [
            "Downloading https://www.cs.toronto.edu/~kriz/cifar-10-python.tar.gz to ./data/cifar-10-python.tar.gz\n"
          ],
          "name": "stdout"
        },
        {
          "output_type": "display_data",
          "data": {
            "application/vnd.jupyter.widget-view+json": {
              "model_id": "6b4032571579405d925ee366ee70384f",
              "version_minor": 0,
              "version_major": 2
            },
            "text/plain": [
              "HBox(children=(FloatProgress(value=0.0, max=170498071.0), HTML(value='')))"
            ]
          },
          "metadata": {
            "tags": []
          }
        },
        {
          "output_type": "stream",
          "text": [
            "\n",
            "Extracting ./data/cifar-10-python.tar.gz to ./data\n",
            "Files already downloaded and verified\n"
          ],
          "name": "stdout"
        }
      ]
    },
    {
      "cell_type": "code",
      "metadata": {
        "id": "vdYNkJLbqSsG"
      },
      "source": [
        "classes = ['plane', 'car', 'bird', 'cat', 'deer', 'dog', 'frog', 'horse', 'ship', 'truck']"
      ],
      "execution_count": 4,
      "outputs": []
    },
    {
      "cell_type": "code",
      "metadata": {
        "id": "E2IfDhr9qUH-"
      },
      "source": [
        "VGG_types = {\n",
        "    'VGG11': [64, 'M', 128, 'M', 256, 256, 'M', 512, 512, 'M', 512, 512, 'M'],\n",
        "    'VGG13': [64, 64, 'M', 128, 128, 'M', 256, 256, 'M', 512, 512, 'M', 512, 512, 'M'],\n",
        "    'VGG16': [64, 64, 'M', 128, 128, 'M', 256, 256, 256, 'M', 512, 512, 512, 'M', 512, 512, 512, 'M'],\n",
        "    'VGG19': [64, 64, 'M', 128, 128, 'M', 256, 256, 256, 256, 'M', 512, 512, 512, 512, 'M', 512, 512, 512, 512, 'M']\n",
        "}"
      ],
      "execution_count": 5,
      "outputs": []
    },
    {
      "cell_type": "code",
      "metadata": {
        "id": "V2mT6zLOqX-l"
      },
      "source": [
        "class VGG_net(nn.Module):\n",
        "    def __init__(self, in_channels, num_classes):\n",
        "        super(VGG_net, self).__init__()\n",
        "        self.in_channels = in_channels\n",
        "        self.conv_layers = self.create_conv_layer(VGG_types['VGG19'])\n",
        "                \n",
        "        self.fcs = nn.Sequential(\n",
        "            nn.Linear(512, 4096),  # 32/32 = 1 \n",
        "            nn.ReLU(),\n",
        "            nn.Dropout(p=0.5),\n",
        "            nn.Linear(4096, 4096),\n",
        "            nn.ReLU(),\n",
        "            nn.Dropout(p=0.5),\n",
        "            nn.Linear(4096, num_classes)\n",
        "        )\n",
        "        \n",
        "    def forward(self, x):\n",
        "        x = self.conv_layers(x)\n",
        "        x = x.reshape(x.shape[0], -1)\n",
        "        x = self.fcs(x)\n",
        "        return x\n",
        "    \n",
        "    def create_conv_layer(self, architecture):\n",
        "        layers = []\n",
        "        in_channels = self.in_channels\n",
        "        \n",
        "        for x in architecture:\n",
        "            if type(x) == int:\n",
        "                out_channels = x\n",
        "                layers += [nn.Conv2d(in_channels = in_channels, out_channels = out_channels,\n",
        "                                    kernel_size=(3,3), stride=(1,1), padding=(1,1)),\n",
        "                           nn.BatchNorm2d(x), nn.ReLU()]\n",
        "                in_channels = x\n",
        "            elif x == 'M':\n",
        "                layers += [nn.MaxPool2d(kernel_size=(2,2), stride = (2,2))]\n",
        "        \n",
        "        return nn.Sequential(*layers)"
      ],
      "execution_count": 6,
      "outputs": []
    },
    {
      "cell_type": "code",
      "metadata": {
        "colab": {
          "base_uri": "https://localhost:8080/"
        },
        "id": "zX3OCE9nqfpc",
        "outputId": "5328ccc9-1cd8-4747-81b4-f4f1cb3ce63e"
      },
      "source": [
        "model = VGG_net(in_channels=3, num_classes = 10).to(device)\n",
        "criterion = nn.CrossEntropyLoss()\n",
        "optimizer = torch.optim.SGD(model.parameters(), lr=learning_rate)\n",
        " \n",
        "n_total_steps = len(train_loader)\n",
        "t1 = dt.datetime.now()\n",
        "print (f'Training started at {t1}')\n",
        "for epoch in range(num_epochs):\n",
        "    for i, (images, labels) in enumerate(train_loader):\n",
        "        images = images.to(device)\n",
        "        labels = labels.to(device)\n",
        " \n",
        "        outputs = model(images)\n",
        "        \n",
        "        loss = criterion(outputs, labels)\n",
        "        \n",
        "        optimizer.zero_grad()\n",
        "        loss.backward()\n",
        "        optimizer.step()\n",
        "        \n",
        "        if (i+1) % 2000 == 0:\n",
        "            print (f'Epoch [{epoch+1}/{num_epochs}], Step [{i+1}/{n_total_steps}], loss: {loss.item():.4f}')\n",
        " \n",
        "t2 = dt.datetime.now()\n",
        "print(f'Finished Training at {t2}')\n",
        "print(f'Training time :  {t2-t1}')\n",
        "with torch.no_grad():\n",
        "    n_correct = 0\n",
        "    n_samples = 0\n",
        "    n_class_correct = [0 for i in range(10)]\n",
        "    n_class_samples = [0 for i in range(10)]\n",
        "    for images, labels in test_loader:\n",
        "        images = images.to(device)\n",
        "        labels = labels.to(device)\n",
        "        \n",
        "        outputs = model(images)\n",
        "        \n",
        "        _, predicted = torch.max(outputs, 1)\n",
        "        n_samples += labels.size(0)\n",
        "        n_correct += (predicted == labels).sum().item()\n",
        "        \n",
        "        for i in range (batch_size):\n",
        "            label = labels[i]\n",
        "            pred = predicted[i]\n",
        "            if label == pred:\n",
        "                n_class_correct[label] += 1\n",
        "            n_class_samples[label] += 1\n",
        "    acc = 100.0 * n_correct / n_samples\n",
        "    print (f'Accuracy of the network: {acc} %')\n",
        "    \n",
        "    for i in range(10):\n",
        "        acc = 100.0 * n_class_correct[i] / n_class_samples[i]\n",
        "        print (f'Accuracy of {classes[i]}: {acc} %')"
      ],
      "execution_count": null,
      "outputs": [
        {
          "output_type": "stream",
          "text": [
            "Training started at 2021-05-26 18:44:47.727900\n",
            "Epoch [1/8], Step [2000/25000], loss: 2.0536\n",
            "Epoch [1/8], Step [4000/25000], loss: 2.2718\n",
            "Epoch [1/8], Step [6000/25000], loss: 1.4799\n",
            "Epoch [1/8], Step [8000/25000], loss: 1.8100\n",
            "Epoch [1/8], Step [10000/25000], loss: 1.7516\n",
            "Epoch [1/8], Step [12000/25000], loss: 1.8268\n",
            "Epoch [1/8], Step [14000/25000], loss: 1.4489\n",
            "Epoch [1/8], Step [16000/25000], loss: 0.9809\n",
            "Epoch [1/8], Step [18000/25000], loss: 1.5223\n",
            "Epoch [1/8], Step [20000/25000], loss: 1.8953\n",
            "Epoch [1/8], Step [22000/25000], loss: 2.4797\n",
            "Epoch [1/8], Step [24000/25000], loss: 0.6786\n",
            "Epoch [2/8], Step [2000/25000], loss: 0.8704\n",
            "Epoch [2/8], Step [4000/25000], loss: 0.3169\n",
            "Epoch [2/8], Step [6000/25000], loss: 2.6658\n",
            "Epoch [2/8], Step [8000/25000], loss: 1.6311\n",
            "Epoch [2/8], Step [10000/25000], loss: 1.0480\n",
            "Epoch [2/8], Step [12000/25000], loss: 1.7122\n",
            "Epoch [2/8], Step [14000/25000], loss: 2.0180\n",
            "Epoch [2/8], Step [16000/25000], loss: 0.6934\n",
            "Epoch [2/8], Step [18000/25000], loss: 1.0744\n",
            "Epoch [2/8], Step [20000/25000], loss: 1.4018\n",
            "Epoch [2/8], Step [22000/25000], loss: 0.7723\n",
            "Epoch [2/8], Step [24000/25000], loss: 0.1548\n"
          ],
          "name": "stdout"
        }
      ]
    },
    {
      "cell_type": "code",
      "metadata": {
        "id": "289kPCi5_eRc"
      },
      "source": [
        ""
      ],
      "execution_count": null,
      "outputs": []
    }
  ]
}